{
 "cells": [
  {
   "cell_type": "markdown",
   "id": "c3e0bfa0-ab0b-4a83-9aac-dce6f91d4955",
   "metadata": {},
   "source": [
    "# 003b - Local Indexing batch\n",
    "\n",
    "Run local_indexing.py to perfor local indexing for a series of datasets. Parameters for local indexing are edited directly in the script file."
   ]
  },
  {
   "cell_type": "code",
   "execution_count": 15,
   "id": "3a0d8589-6674-4405-914e-7bf3506a56eb",
   "metadata": {
    "tags": []
   },
   "outputs": [
    {
     "name": "stdout",
     "output_type": "stream",
     "text": [
      "The autoreload extension is already loaded. To reload it, use:\n",
      "  %reload_ext autoreload\n"
     ]
    }
   ],
   "source": [
    "import os, sys\n",
    "import pylab as pl\n",
    "import numpy as np\n",
    "\n",
    "import ImageD11.sinograms.dataset, ImageD11.columnfile\n",
    "\n",
    "if '/home/esrf/jean1994b/' not in sys.path:\n",
    "    sys.path.append('/home/esrf/jean1994b/')\n",
    "    \n",
    "from pf_3dxrd import utils, pixelmap\n",
    "\n",
    "%matplotlib ipympl\n",
    "%load_ext autoreload"
   ]
  },
  {
   "cell_type": "code",
   "execution_count": 16,
   "id": "017e46f4-4e81-4a76-a4df-2f066e1d2f4a",
   "metadata": {
    "tags": []
   },
   "outputs": [],
   "source": [
    "#phase to index\n",
    "pname = 'orthoclase'\n",
    "\n",
    "# paths\n",
    "data_dir = 'data'                           # folder containing your data\n",
    "parfile='data/SI3.par'                      # parameter file\n",
    "\n",
    "# list of datasets to process\n",
    "dset_list = ['SI3_DT360Z5480']   "
   ]
  },
  {
   "cell_type": "code",
   "execution_count": 24,
   "id": "5fd24af1-c4b8-497f-8bf0-554eca77e8fc",
   "metadata": {
    "tags": []
   },
   "outputs": [],
   "source": [
    "# functions to get path names from dataset name\n",
    "def get_pkspath(dsname):\n",
    "    return os.path.join(data_dir, dsname+'_pks_p_flt.h5')\n",
    "\n",
    "def get_dspath(dsname):\n",
    "    return os.path.join(data_dir, dsname+'_dataset.h5')\n",
    "\n",
    "def get_xmappath(dsname):\n",
    "    return os.path.join(data_dir, dsname+'_xmap.h5')"
   ]
  },
  {
   "cell_type": "code",
   "execution_count": 25,
   "id": "7a729f21-3fee-4d63-a5b8-63c082491999",
   "metadata": {
    "tags": []
   },
   "outputs": [
    {
     "name": "stdout",
     "output_type": "stream",
     "text": [
      "    hkltol         = 0.15   #  hkl tolerance parameter for indexing\n",
      "    minpks         = 10     # minimum number of g-vectors to consider a ubi as a possible match\n",
      "    minpks_prop    = 0.1    # min. frac. of g-vecs over the selected pixel to consider a ubi as a possible match.\n",
      "    nrings         = 10      # maximum number of hkl rings to search in \n",
      "    max_mult       = 12     # maximum multplicity of hkl rings to search in\n",
      "    px_kernel_size = 3      # size of peak selection around a pixel: single pixel or nxn kernel\n",
      "    sym            = ImageD11.sym_u.monoclinic_b()   # crystal symmetry (ImageD11.sym_u symmetry)\n",
      "    ncpu           = len(os.sched_getaffinity( os.getpid() )) - 1     # ncpu. by default, use all cpus available\n",
      "    chunksize      = 20                                               # size of chunks passed to ProcessPoolExecutor\n",
      "    \n",
      "    \n"
     ]
    }
   ],
   "source": [
    "# have a look at options in find_friedel_pairs.py and update them if needed. Edit them directly in the file\n",
    "\n",
    "with open('local_indexing.py','r') as f:\n",
    "    print_lines = False\n",
    "    for l in f.readlines():\n",
    "        if 'class Options' in l:\n",
    "            print_lines = True\n",
    "            continue\n",
    "        if 'END EDITABLE' in l:\n",
    "            print_lines = False\n",
    "            break\n",
    "            \n",
    "        if print_lines:\n",
    "            print(l, end='')"
   ]
  },
  {
   "cell_type": "code",
   "execution_count": 26,
   "id": "554065a0-a200-49a5-b1e2-e98a87fd155c",
   "metadata": {
    "tags": []
   },
   "outputs": [
    {
     "name": "stdout",
     "output_type": "stream",
     "text": [
      "./local_indexing.py -pksfile data/SI3_DT360Z5480_pks_p_flt.h5 -dsfile data/SI3_DT360Z5480_dataset.h5 -xmapfile data/SI3_DT360Z5480_xmap.h5 -parfile data/SI3.par -pname orthoclase\n"
     ]
    },
    {
     "data": {
      "text/plain": [
       "1"
      ]
     },
     "execution_count": 26,
     "metadata": {},
     "output_type": "execute_result"
    }
   ],
   "source": [
    "# prepare commands\n",
    "\n",
    "def get_command(dsname):\n",
    "    pksfile = get_pkspath(dsname)\n",
    "    dsfile = get_dspath(dsname)\n",
    "    xmapfile = get_xmappath(dsname)\n",
    "    \n",
    "    command = f'./local_indexing.py -pksfile {pksfile} -dsfile {dsfile} -xmapfile {xmapfile}'\\\n",
    "    f' -parfile {parfile} -pname {pname}' \n",
    "    return command\n",
    "\n",
    "\n",
    "jobs = [get_command(dsname) for dsname in dset_list]\n",
    "\n",
    "print(jobs[0])\n",
    "len(jobs)"
   ]
  },
  {
   "cell_type": "code",
   "execution_count": 27,
   "id": "5b1f86b1-deeb-491f-a027-7655c09c0024",
   "metadata": {
    "tags": []
   },
   "outputs": [
    {
     "name": "stdout",
     "output_type": "stream",
     "text": [
      "\n",
      "=============================-\n",
      "load data...\n",
      "\n",
      "Pixelmap:\n",
      " size: (110, 110),\n",
      " phases: ['notIndexed', 'quartz', 'magnetite', 'biotite', 'orthoclase', 'oligoclase'],\n",
      " phase_ids: [-1, 0, 1, 2, 3, 4],\n",
      " titles: ['xyi', 'xi', 'yi', 'phase_id', 'grain_id', 'Npks', 'U', 'UBI', 'completeness', 'drlv2', 'nindx', 'phase_label_confidence', 'uniqueness', 'unitcell'], \n",
      " grains: 0\n",
      "Reading your columnfile in hdf format\n",
      "Total size =  25.95 MB\n",
      "\n",
      "---------------------------------\n",
      "PARAMETERS FOR INDEXING:\n",
      "chunksize:20\n",
      "hkltol:0.15\n",
      "max_mult:12\n",
      "minpks:10\n",
      "minpks_prop:0.1\n",
      "ncpu:7\n",
      "nrings:10\n",
      "px_kernel_size:3\n",
      "sym:<ImageD11.sym_u.group object at 0x7fa06ac56130>\n",
      "unitcell:<ImageD11.unitcell.unitcell object at 0x7fa037ca4730>\n",
      "---------------------------------\n",
      "\n",
      "=============================\n",
      "prepare g-vectors for indexing...\n",
      "Number of pixels to process: 918\n",
      "\n",
      "=============================\n",
      "local indexing...\n",
      "100%|█████████████████████████████████████████| 918/918 [00:52<00:00, 17.57it/s]\n",
      "extracting results...\n",
      "updating xmap...\n",
      "\n",
      "=============================\n",
      "Make plots and save\n",
      "Pixelmap saved to: data/SI3_DT360Z5480_xmap.h5\n",
      "DONE\n",
      "==============================================\n",
      "\n"
     ]
    }
   ],
   "source": [
    "# submit\n",
    "for j in jobs:\n",
    "    !python {j}\n"
   ]
  },
  {
   "cell_type": "code",
   "execution_count": null,
   "id": "a9fee7e3-5a3f-40a0-91f6-2be830789318",
   "metadata": {},
   "outputs": [],
   "source": []
  }
 ],
 "metadata": {
  "kernelspec": {
   "display_name": "Python 3 (ipykernel)",
   "language": "python",
   "name": "python3"
  },
  "language_info": {
   "codemirror_mode": {
    "name": "ipython",
    "version": 3
   },
   "file_extension": ".py",
   "mimetype": "text/x-python",
   "name": "python",
   "nbconvert_exporter": "python",
   "pygments_lexer": "ipython3",
   "version": "3.8.10"
  }
 },
 "nbformat": 4,
 "nbformat_minor": 5
}
